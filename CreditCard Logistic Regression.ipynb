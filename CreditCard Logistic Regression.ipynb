{
 "cells": [
  {
   "cell_type": "markdown",
   "id": "0e2b6bdf",
   "metadata": {},
   "source": [
    "## LOGISTIC REGRESSION USING CREDIT CARD DATASET"
   ]
  },
  {
   "cell_type": "markdown",
   "id": "03509380",
   "metadata": {},
   "source": [
    "#### Importing Libraries"
   ]
  },
  {
   "cell_type": "code",
   "execution_count": 1,
   "id": "a99c410d",
   "metadata": {},
   "outputs": [],
   "source": [
    "import pandas as pd\n",
    "import numpy as np\n",
    "import matplotlib.pyplot as plt\n",
    "import seaborn as sns"
   ]
  },
  {
   "cell_type": "markdown",
   "id": "c7fdc470",
   "metadata": {},
   "source": [
    "#### Reading the file"
   ]
  },
  {
   "cell_type": "code",
   "execution_count": 2,
   "id": "4340f0e7",
   "metadata": {},
   "outputs": [
    {
     "data": {
      "text/html": [
       "<div>\n",
       "<style scoped>\n",
       "    .dataframe tbody tr th:only-of-type {\n",
       "        vertical-align: middle;\n",
       "    }\n",
       "\n",
       "    .dataframe tbody tr th {\n",
       "        vertical-align: top;\n",
       "    }\n",
       "\n",
       "    .dataframe thead th {\n",
       "        text-align: right;\n",
       "    }\n",
       "</style>\n",
       "<table border=\"1\" class=\"dataframe\">\n",
       "  <thead>\n",
       "    <tr style=\"text-align: right;\">\n",
       "      <th></th>\n",
       "      <th>Time</th>\n",
       "      <th>V1</th>\n",
       "      <th>V2</th>\n",
       "      <th>V3</th>\n",
       "      <th>V4</th>\n",
       "      <th>V5</th>\n",
       "      <th>V6</th>\n",
       "      <th>V7</th>\n",
       "      <th>V8</th>\n",
       "      <th>V9</th>\n",
       "      <th>...</th>\n",
       "      <th>V21</th>\n",
       "      <th>V22</th>\n",
       "      <th>V23</th>\n",
       "      <th>V24</th>\n",
       "      <th>V25</th>\n",
       "      <th>V26</th>\n",
       "      <th>V27</th>\n",
       "      <th>V28</th>\n",
       "      <th>Amount</th>\n",
       "      <th>Class</th>\n",
       "    </tr>\n",
       "  </thead>\n",
       "  <tbody>\n",
       "    <tr>\n",
       "      <th>0</th>\n",
       "      <td>0.0</td>\n",
       "      <td>-1.359807</td>\n",
       "      <td>-0.072781</td>\n",
       "      <td>2.536347</td>\n",
       "      <td>1.378155</td>\n",
       "      <td>-0.338321</td>\n",
       "      <td>0.462388</td>\n",
       "      <td>0.239599</td>\n",
       "      <td>0.098698</td>\n",
       "      <td>0.363787</td>\n",
       "      <td>...</td>\n",
       "      <td>-0.018307</td>\n",
       "      <td>0.277838</td>\n",
       "      <td>-0.110474</td>\n",
       "      <td>0.066928</td>\n",
       "      <td>0.128539</td>\n",
       "      <td>-0.189115</td>\n",
       "      <td>0.133558</td>\n",
       "      <td>-0.021053</td>\n",
       "      <td>149.62</td>\n",
       "      <td>0</td>\n",
       "    </tr>\n",
       "    <tr>\n",
       "      <th>1</th>\n",
       "      <td>0.0</td>\n",
       "      <td>1.191857</td>\n",
       "      <td>0.266151</td>\n",
       "      <td>0.166480</td>\n",
       "      <td>0.448154</td>\n",
       "      <td>0.060018</td>\n",
       "      <td>-0.082361</td>\n",
       "      <td>-0.078803</td>\n",
       "      <td>0.085102</td>\n",
       "      <td>-0.255425</td>\n",
       "      <td>...</td>\n",
       "      <td>-0.225775</td>\n",
       "      <td>-0.638672</td>\n",
       "      <td>0.101288</td>\n",
       "      <td>-0.339846</td>\n",
       "      <td>0.167170</td>\n",
       "      <td>0.125895</td>\n",
       "      <td>-0.008983</td>\n",
       "      <td>0.014724</td>\n",
       "      <td>2.69</td>\n",
       "      <td>0</td>\n",
       "    </tr>\n",
       "    <tr>\n",
       "      <th>2</th>\n",
       "      <td>1.0</td>\n",
       "      <td>-1.358354</td>\n",
       "      <td>-1.340163</td>\n",
       "      <td>1.773209</td>\n",
       "      <td>0.379780</td>\n",
       "      <td>-0.503198</td>\n",
       "      <td>1.800499</td>\n",
       "      <td>0.791461</td>\n",
       "      <td>0.247676</td>\n",
       "      <td>-1.514654</td>\n",
       "      <td>...</td>\n",
       "      <td>0.247998</td>\n",
       "      <td>0.771679</td>\n",
       "      <td>0.909412</td>\n",
       "      <td>-0.689281</td>\n",
       "      <td>-0.327642</td>\n",
       "      <td>-0.139097</td>\n",
       "      <td>-0.055353</td>\n",
       "      <td>-0.059752</td>\n",
       "      <td>378.66</td>\n",
       "      <td>0</td>\n",
       "    </tr>\n",
       "    <tr>\n",
       "      <th>3</th>\n",
       "      <td>1.0</td>\n",
       "      <td>-0.966272</td>\n",
       "      <td>-0.185226</td>\n",
       "      <td>1.792993</td>\n",
       "      <td>-0.863291</td>\n",
       "      <td>-0.010309</td>\n",
       "      <td>1.247203</td>\n",
       "      <td>0.237609</td>\n",
       "      <td>0.377436</td>\n",
       "      <td>-1.387024</td>\n",
       "      <td>...</td>\n",
       "      <td>-0.108300</td>\n",
       "      <td>0.005274</td>\n",
       "      <td>-0.190321</td>\n",
       "      <td>-1.175575</td>\n",
       "      <td>0.647376</td>\n",
       "      <td>-0.221929</td>\n",
       "      <td>0.062723</td>\n",
       "      <td>0.061458</td>\n",
       "      <td>123.50</td>\n",
       "      <td>0</td>\n",
       "    </tr>\n",
       "    <tr>\n",
       "      <th>4</th>\n",
       "      <td>2.0</td>\n",
       "      <td>-1.158233</td>\n",
       "      <td>0.877737</td>\n",
       "      <td>1.548718</td>\n",
       "      <td>0.403034</td>\n",
       "      <td>-0.407193</td>\n",
       "      <td>0.095921</td>\n",
       "      <td>0.592941</td>\n",
       "      <td>-0.270533</td>\n",
       "      <td>0.817739</td>\n",
       "      <td>...</td>\n",
       "      <td>-0.009431</td>\n",
       "      <td>0.798278</td>\n",
       "      <td>-0.137458</td>\n",
       "      <td>0.141267</td>\n",
       "      <td>-0.206010</td>\n",
       "      <td>0.502292</td>\n",
       "      <td>0.219422</td>\n",
       "      <td>0.215153</td>\n",
       "      <td>69.99</td>\n",
       "      <td>0</td>\n",
       "    </tr>\n",
       "  </tbody>\n",
       "</table>\n",
       "<p>5 rows × 31 columns</p>\n",
       "</div>"
      ],
      "text/plain": [
       "   Time        V1        V2        V3        V4        V5        V6        V7  \\\n",
       "0   0.0 -1.359807 -0.072781  2.536347  1.378155 -0.338321  0.462388  0.239599   \n",
       "1   0.0  1.191857  0.266151  0.166480  0.448154  0.060018 -0.082361 -0.078803   \n",
       "2   1.0 -1.358354 -1.340163  1.773209  0.379780 -0.503198  1.800499  0.791461   \n",
       "3   1.0 -0.966272 -0.185226  1.792993 -0.863291 -0.010309  1.247203  0.237609   \n",
       "4   2.0 -1.158233  0.877737  1.548718  0.403034 -0.407193  0.095921  0.592941   \n",
       "\n",
       "         V8        V9  ...       V21       V22       V23       V24       V25  \\\n",
       "0  0.098698  0.363787  ... -0.018307  0.277838 -0.110474  0.066928  0.128539   \n",
       "1  0.085102 -0.255425  ... -0.225775 -0.638672  0.101288 -0.339846  0.167170   \n",
       "2  0.247676 -1.514654  ...  0.247998  0.771679  0.909412 -0.689281 -0.327642   \n",
       "3  0.377436 -1.387024  ... -0.108300  0.005274 -0.190321 -1.175575  0.647376   \n",
       "4 -0.270533  0.817739  ... -0.009431  0.798278 -0.137458  0.141267 -0.206010   \n",
       "\n",
       "        V26       V27       V28  Amount  Class  \n",
       "0 -0.189115  0.133558 -0.021053  149.62      0  \n",
       "1  0.125895 -0.008983  0.014724    2.69      0  \n",
       "2 -0.139097 -0.055353 -0.059752  378.66      0  \n",
       "3 -0.221929  0.062723  0.061458  123.50      0  \n",
       "4  0.502292  0.219422  0.215153   69.99      0  \n",
       "\n",
       "[5 rows x 31 columns]"
      ]
     },
     "execution_count": 2,
     "metadata": {},
     "output_type": "execute_result"
    }
   ],
   "source": [
    "dataset = pd.read_csv('creditcard.csv')\n",
    "dataset.head()"
   ]
  },
  {
   "cell_type": "markdown",
   "id": "48a64bcb",
   "metadata": {},
   "source": [
    "#### Input X and Output Y"
   ]
  },
  {
   "cell_type": "code",
   "execution_count": 7,
   "id": "e27ee179",
   "metadata": {},
   "outputs": [
    {
     "data": {
      "text/plain": [
       "array([[ 0.00000000e+00, -1.35980713e+00, -7.27811733e-02, ...,\n",
       "         1.33558377e-01, -2.10530535e-02,  1.49620000e+02],\n",
       "       [ 0.00000000e+00,  1.19185711e+00,  2.66150712e-01, ...,\n",
       "        -8.98309914e-03,  1.47241692e-02,  2.69000000e+00],\n",
       "       [ 1.00000000e+00, -1.35835406e+00, -1.34016307e+00, ...,\n",
       "        -5.53527940e-02, -5.97518406e-02,  3.78660000e+02],\n",
       "       ...,\n",
       "       [ 1.72788000e+05,  1.91956501e+00, -3.01253846e-01, ...,\n",
       "         4.45477214e-03, -2.65608286e-02,  6.78800000e+01],\n",
       "       [ 1.72788000e+05, -2.40440050e-01,  5.30482513e-01, ...,\n",
       "         1.08820735e-01,  1.04532821e-01,  1.00000000e+01],\n",
       "       [ 1.72792000e+05, -5.33412522e-01, -1.89733337e-01, ...,\n",
       "        -2.41530880e-03,  1.36489143e-02,  2.17000000e+02]])"
      ]
     },
     "execution_count": 7,
     "metadata": {},
     "output_type": "execute_result"
    }
   ],
   "source": [
    "x = dataset.iloc[:, 0:30].values\n",
    "y = dataset.iloc[:, 30].values\n",
    "x"
   ]
  },
  {
   "cell_type": "markdown",
   "id": "94624dbc",
   "metadata": {},
   "source": [
    "#### Splitting the dataset to train and test. 75% of data is used for training the model and 25% of it is used to test the performance of our model. "
   ]
  },
  {
   "cell_type": "code",
   "execution_count": 15,
   "id": "08b6f0d6",
   "metadata": {},
   "outputs": [],
   "source": [
    "from sklearn.model_selection import train_test_split\n",
    "xtrain, xtest, ytrain, ytest = train_test_split(x, y, test_size = 0.25, random_state = 0)"
   ]
  },
  {
   "cell_type": "markdown",
   "id": "8b0be685",
   "metadata": {},
   "source": [
    "#### Perform Feature Scaling here values lie in different ranges."
   ]
  },
  {
   "cell_type": "code",
   "execution_count": 16,
   "id": "d259d735",
   "metadata": {},
   "outputs": [
    {
     "name": "stdout",
     "output_type": "stream",
     "text": [
      "[[ 0.75665415  1.04272047  0.06657394 -1.19051456  0.05060912  0.18235446\n",
      "  -1.31399333  0.58133086 -0.40257892 -0.09319222  0.16481198  1.60036637\n",
      "   1.18028602 -0.24273404  1.08764203 -0.35935009 -0.76863613 -0.28881862\n",
      "  -0.39536117  0.13774039 -0.34055771  0.32484688  1.13026957  0.03716189\n",
      "   0.90724443  0.61754959  0.39904973 -0.21031503 -0.2607924  -0.35356699]\n",
      " [-0.2834455   0.65277143  0.27902921 -0.24476894  0.58215447  0.33956351\n",
      "  -0.350961    0.37631829 -0.1526232  -0.49922983  0.18526276  0.77315062\n",
      "   0.88621554  0.41739337  0.67118369 -0.01202639  0.18480279 -0.98158561\n",
      "   0.36124364  0.35845646 -0.12663903  0.01884443  0.11479795 -0.39601926\n",
      "  -0.53876082  1.77869575 -0.56472291 -0.02422764 -0.01672827 -0.34945825]\n",
      " [ 1.35155922 -0.21266203  0.00863513  0.89513523  0.78034353  0.59516913\n",
      "  -0.11750823 -0.30293183  0.02722577 -0.090861   -0.14659342 -1.11458827\n",
      "   0.6777495   2.03225147 -0.28556909  1.96808998 -0.92713443  0.11590306\n",
      "   0.45044245  3.62833119  0.73238621 -0.07046054 -0.12171567  0.10045163\n",
      "  -1.12562038 -1.23156386 -0.33108188  0.59177033  0.631378   -0.33270102]\n",
      " [-0.69781792 -0.73178194  0.89380068  0.38101798  0.14568892 -0.48903054\n",
      "  -0.34957862  0.1808704  -0.08098755  1.41890215  1.38176669 -0.0281132\n",
      "   0.71396751  0.08755665 -0.95557831 -0.41134893 -1.13294771  0.42444655\n",
      "  -1.45549477 -0.63196722  0.344954   -0.07415592  0.50029188  0.24801648\n",
      "   1.04887732 -0.70356801  0.34079552 -1.86409414 -0.85063214 -0.31960943]\n",
      " [ 1.42943564  1.04468531 -0.00874784 -1.50594355  0.21243006  0.57576533\n",
      "  -0.75182677  0.62740617 -0.38236006  0.32972438 -0.03016321 -1.10171025\n",
      "   0.26572226 -0.03800635  0.64468014 -0.16027201 -0.88448283 -0.28296844\n",
      "  -0.52291515  0.33454764 -0.1819794   0.17970268  0.67548796 -0.19026739\n",
      "   0.8697659   1.16429697 -0.18673179 -0.16249291 -0.19398971 -0.16520928]\n",
      " [ 1.40135044 -0.24516637  0.28496612 -0.59512407 -0.43611177  2.38430164\n",
      "   0.64982467  1.43252822 -0.59406298 -0.29729564  0.53881605  1.11302825\n",
      "   0.39116009 -0.14007021  0.3856853   0.48962182 -2.67279999  0.22062259\n",
      "  -1.06158169  0.86749423 -0.25818225  0.41313812  2.42463134 -1.40221759\n",
      "  -1.36543452  0.27474375 -0.26333468 -1.32187241 -1.87881974 -0.25395009]\n",
      " [-0.83340163 -0.64765413  0.23335308  1.32625359 -0.44614345  0.17273138\n",
      "  -0.84146895  0.21438115 -0.17281866 -0.28661098 -0.47337105 -0.15896805\n",
      "   0.45134332  1.1339433  -0.26064557  1.14810381  0.24657359 -0.44204339\n",
      "  -0.47174963  0.38204274 -0.0654597  -0.10659374 -0.30909282 -0.48317016\n",
      "   0.78550698  0.05241375  1.89869409 -0.58379067  0.31560962 -0.28488651]\n",
      " [ 1.56600885 -0.09053083 -0.22650676  0.49190998 -0.15028568 -1.7659803\n",
      "   1.7247584   2.17404536 -0.78197091  0.09689026  0.80260124 -0.30301025\n",
      "   0.19600975  0.24094667 -1.64698463 -2.70330959 -1.99571214 -0.85598853\n",
      "   2.35743499 -0.85976058 -1.14095325 -0.42713006  1.32131538 -0.67592301\n",
      "  -0.57893935 -0.25664283 -0.95494152 -0.81016943 -2.53991135  1.78632327]\n",
      " [-0.2544129  -0.13497571  0.42660438  1.25254011 -0.08043752  0.29367004\n",
      "  -0.65598006  0.9758653  -0.66966321  0.21221637  0.38811692 -0.31602794\n",
      "  -0.77297242 -0.90083947 -0.33759447  1.06279729 -0.0546694  -0.80988179\n",
      "  -0.38491223  0.08555608  0.0576075  -0.3614982  -0.56842625 -0.12329827\n",
      "   0.56866488 -1.59077892 -0.2600356  -1.5841464  -1.61317483 -0.35147234]\n",
      " [ 1.33416914 -0.0861578  -0.08975412  0.81163346 -1.05441284 -0.27079463\n",
      "  -0.65330625 -0.10338838 -0.05477982 -0.75860513  0.10412807 -1.04339232\n",
      "  -1.1822254  -0.4807945  -0.33650595  0.00603463  0.97028337  0.39122434\n",
      "  -1.24128339  1.1659969   0.13615103  0.4238651   1.1746407  -0.22689211\n",
      "   0.10050847 -0.80721351 -0.30415897  0.40304898  0.5226588  -0.34055597]]\n"
     ]
    }
   ],
   "source": [
    "from sklearn.preprocessing import StandardScaler\n",
    "sc_x = StandardScaler()\n",
    "xtrain = sc_x.fit_transform(xtrain)\n",
    "xtest = sc_x.transform(xtest)\n",
    "\n",
    "print (xtrain[0:10, :])"
   ]
  },
  {
   "cell_type": "markdown",
   "id": "5b5d1216",
   "metadata": {},
   "source": [
    "#### Training our Logistic Regression model. "
   ]
  },
  {
   "cell_type": "code",
   "execution_count": 17,
   "id": "f67bf09b",
   "metadata": {},
   "outputs": [
    {
     "data": {
      "text/plain": [
       "LogisticRegression(random_state=0)"
      ]
     },
     "execution_count": 17,
     "metadata": {},
     "output_type": "execute_result"
    }
   ],
   "source": [
    "from sklearn.linear_model import LogisticRegression\n",
    "classifier = LogisticRegression(random_state = 0)\n",
    "classifier.fit(xtrain, ytrain)\n"
   ]
  },
  {
   "cell_type": "markdown",
   "id": "1fb60968",
   "metadata": {},
   "source": [
    "#### Predict Test Data"
   ]
  },
  {
   "cell_type": "code",
   "execution_count": 18,
   "id": "de93f6bf",
   "metadata": {},
   "outputs": [],
   "source": [
    "y_pred = classifier.predict(xtest)\n"
   ]
  },
  {
   "cell_type": "markdown",
   "id": "c984f37a",
   "metadata": {},
   "source": [
    "#### Test Performance (Confusion Matrix)"
   ]
  },
  {
   "cell_type": "code",
   "execution_count": 19,
   "id": "85a47d5f",
   "metadata": {},
   "outputs": [
    {
     "name": "stdout",
     "output_type": "stream",
     "text": [
      "Confusion Matrix : \n",
      " [[71071    11]\n",
      " [   41    79]]\n"
     ]
    }
   ],
   "source": [
    "from sklearn.metrics import confusion_matrix\n",
    "cm = confusion_matrix(ytest, y_pred)\n",
    "\n",
    "print (\"Confusion Matrix : \\n\", cm)"
   ]
  },
  {
   "cell_type": "markdown",
   "id": "9e6e3aae",
   "metadata": {},
   "source": [
    "#### Performance Measure (Accuracy)"
   ]
  },
  {
   "cell_type": "code",
   "execution_count": 21,
   "id": "708f8173",
   "metadata": {},
   "outputs": [
    {
     "name": "stdout",
     "output_type": "stream",
     "text": [
      "Accuracy :  0.9992696834358585\n"
     ]
    }
   ],
   "source": [
    "from sklearn.metrics import accuracy_score\n",
    "print (\"Accuracy : \", accuracy_score(ytest, y_pred))"
   ]
  },
  {
   "cell_type": "markdown",
   "id": "19572b7c",
   "metadata": {},
   "source": [
    "#### Visualization of Performance Model"
   ]
  },
  {
   "cell_type": "code",
   "execution_count": 22,
   "id": "a10a1632",
   "metadata": {},
   "outputs": [
    {
     "data": {
      "text/plain": [
       "Text(0.5, 257.44, 'Predicted label')"
      ]
     },
     "execution_count": 22,
     "metadata": {},
     "output_type": "execute_result"
    },
    {
     "data": {
      "image/png": "[encoded data removed]",
      "text/plain": [
       "<Figure size 432x288 with 2 Axes>"
      ]
     },
     "metadata": {
      "needs_background": "light"
     },
     "output_type": "display_data"
    }
   ],
   "source": [
    "class_names=[0,1]\n",
    "fig, ax = plt.subplots()\n",
    "tick_marks = np.arange(len(class_names))\n",
    "plt.xticks(tick_marks, class_names)\n",
    "plt.yticks(tick_marks, class_names)\n",
    "sns.heatmap(pd.DataFrame(cm), annot=True, cmap=\"YlGnBu\" ,fmt='g')\n",
    "ax.xaxis.set_label_position(\"top\")\n",
    "plt.tight_layout()\n",
    "plt.title('Confusion matrix', y=1.1)\n",
    "plt.ylabel('Actual label')\n",
    "plt.xlabel('Predicted label')"
   ]
  }
 ],
 "metadata": {
  "kernelspec": {
   "display_name": "Python 3",
   "language": "python",
   "name": "python3"
  },
  "language_info": {
   "codemirror_mode": {
    "name": "ipython",
    "version": 3
   },
   "file_extension": ".py",
   "mimetype": "text/x-python",
   "name": "python",
   "nbconvert_exporter": "python",
   "pygments_lexer": "ipython3",
   "version": "3.8.8"
  }
 },
 "nbformat": 4,
 "nbformat_minor": 5
}
